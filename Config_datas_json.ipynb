{
  "nbformat": 4,
  "nbformat_minor": 0,
  "metadata": {
    "colab": {
      "provenance": [],
      "authorship_tag": "ABX9TyN1uF2JK6s9dihosquB7v8H",
      "include_colab_link": true
    },
    "kernelspec": {
      "name": "python3",
      "display_name": "Python 3"
    },
    "language_info": {
      "name": "python"
    }
  },
  "cells": [
    {
      "cell_type": "markdown",
      "metadata": {
        "id": "view-in-github",
        "colab_type": "text"
      },
      "source": [
        "<a href=\"https://colab.research.google.com/github/Onoruoiza514/My-Automation-Project/blob/main/Config_datas_json.ipynb\" target=\"_parent\"><img src=\"https://colab.research.google.com/assets/colab-badge.svg\" alt=\"Open In Colab\"/></a>"
      ]
    },
    {
      "cell_type": "code",
      "execution_count": 2,
      "metadata": {
        "colab": {
          "base_uri": "https://localhost:8080/"
        },
        "id": "3jRK1f1WbsP2",
        "outputId": "72d3c910-28df-4e82-8ac3-be95c5deeed2"
      },
      "outputs": [
        {
          "output_type": "stream",
          "name": "stdout",
          "text": [
            "config.json file created successfully.\n"
          ]
        }
      ],
      "source": [
        "import json\n",
        "\n",
        "# Configuration data\n",
        "config_data = {\n",
        "\"api_key\": \"dba9af993c1ada8d045c99e6492363ba\",\n",
        "\"default_cities\": [\n",
        "                \"Lagos\", \"Nairobi\", \"Cairo\", \"Johannesburg\", \"Accra\",\n",
        "                        \"Addis Ababa\", \"Kampala\", \"Kinshasa\", \"Casablanca\", \"Tunis\",\n",
        "                                \"Algiers\", \"Dakar\", \"Abuja\", \"Windhoek\", \"Dar es Salaam\"\n",
        "                                    ],\n",
        "\"unit\": \"metric\"\n",
        "             }\n",
        "\n",
        "# Save the configuration file\n",
        "with open(\"config.json\", \"w\") as config_file:\n",
        "    json.dump(config_data, config_file, indent=4)\n",
        "\n",
        "print(\"config.json file created successfully.\")"
      ]
    }
  ]
}