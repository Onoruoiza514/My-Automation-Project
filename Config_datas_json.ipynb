{
  "nbformat": 4,
  "nbformat_minor": 0,
  "metadata": {
    "colab": {
      "provenance": [],
      "authorship_tag": "ABX9TyO4yd/JLddmBdmmK9zfyS+S",
      "include_colab_link": true
    },
    "kernelspec": {
      "name": "python3",
      "display_name": "Python 3"
    },
    "language_info": {
      "name": "python"
    }
  },
  "cells": [
    {
      "cell_type": "markdown",
      "metadata": {
        "id": "view-in-github",
        "colab_type": "text"
      },
      "source": [
        "<a href=\"https://colab.research.google.com/github/Onoruoiza514/My-Automation-Project/blob/main/Config_datas_json.ipynb\" target=\"_parent\"><img src=\"https://colab.research.google.com/assets/colab-badge.svg\" alt=\"Open In Colab\"/></a>"
      ]
    },
    {
      "cell_type": "code",
      "execution_count": null,
      "metadata": {
        "colab": {
          "base_uri": "https://localhost:8080/"
        },
        "id": "3jRK1f1WbsP2",
        "outputId": "f7f552d2-d31f-401b-f324-fd4b871bfd19"
      },
      "outputs": [
        {
          "output_type": "stream",
          "name": "stdout",
          "text": [
            "Current Working Directory: /content\n",
            "Files in Directory: ['.config', 'config.json', 'sample_data']\n",
            "config.json file created successfully.\n",
            "Files in Directory: ['.config', 'config.json', 'sample_data']\n"
          ]
        }
      ],
      "source": [
        "import json\n",
        "import os\n",
        "\n",
        "# Set the working directory to /content\n",
        "os.chdir('/content')\n",
        "\n",
        "# Verify the working directory\n",
        "print(\"Current Working Directory:\", os.getcwd())\n",
        "print(\"Files in Directory:\", os.listdir())\n",
        "\n",
        "\n",
        "# Configuration data\n",
        "config_data = {\n",
        "\"api_key\": \"dba9af993c1ada8d045c99e6492363ba\",\n",
        "\"default_cities\": [\n",
        "\"Lagos\", \"Nairobi\", \"Cairo\", \"Johannesburg\", \"Accra\",\n",
        "\"Addis Ababa\", \"Kampala\", \"Kinshasa\", \"Casablanca\", \"Tunis\",\n",
        "\"Algiers\", \"Dakar\", \"Abuja\", \"Windhoek\", \"Dar es Salaam\"],\n",
        "\n",
        "\"unit\": \"metric\"\n",
        "             }\n",
        "\n",
        "# Save the configuration file\n",
        "with open(\"config.json\", \"w\") as config_file:\n",
        "    json.dump(config_data, config_file, indent=4)\n",
        "\n",
        "print(\"config.json file created successfully.\")\n",
        "\n",
        "\n",
        "\n",
        "# List files in the current directory\n",
        "print(\"Files in Directory:\", os.listdir())\n"
      ]
    },
    {
      "cell_type": "code",
      "source": [
        "#Lets load the configuration file here for testing purpose\n",
        "\n",
        "\n",
        "\n",
        "# Load configuration\n",
        "try:\n",
        "    with open(\"config.json\", \"r\") as config_file:\n",
        "        config = json.load(config_file)\n",
        "except FileNotFoundError:\n",
        "    print(\"The file yiu highlighted for opening was not found\")\n",
        "\n",
        "except Exception as e:\n",
        "    print(f\"An error occurred while loading the configuration: {e}\")\n",
        "\n",
        "# Access the configuration values\n",
        "API_KEY = config.get(\"api_key\")\n",
        "DEFAULT_CITIES = config.get(\"default_cities\", [])\n",
        "UNIT = config.get(\"unit\", \"metric\")\n",
        "\n",
        "print(f\"API Key: {API_KEY}\")\n",
        "print(f\"Default Cities: {DEFAULT_CITIES}\")\n",
        "print(f\"Unit: {UNIT}\")\n",
        "\n",
        "\n",
        "\n",
        "\n",
        "\n",
        "\n",
        "\n",
        "\n",
        "\n",
        "\n"
      ],
      "metadata": {
        "colab": {
          "base_uri": "https://localhost:8080/"
        },
        "id": "_2cTaL44wdk6",
        "outputId": "a90b1410-28ed-4908-ee69-1dbe83402d8b"
      },
      "execution_count": null,
      "outputs": [
        {
          "output_type": "stream",
          "name": "stdout",
          "text": [
            "API Key: dba9af993c1ada8d045c99e6492363ba\n",
            "Default Cities: ['Lagos', 'Nairobi', 'Cairo', 'Johannesburg', 'Accra', 'Addis Ababa', 'Kampala', 'Kinshasa', 'Casablanca', 'Tunis', 'Algiers', 'Dakar', 'Abuja', 'Windhoek', 'Dar es Salaam']\n",
            "Unit: metric\n"
          ]
        }
      ]
    },
    {
      "cell_type": "code",
      "source": [
        "import requests\n",
        "\n",
        "def fetch_weather(city):\n",
        "     url = f\"https://api.openweathermap.org/data/2.5/weather?q={city}&appid={API_KEY}&units={UNIT}\"\n",
        "     response = requests.get(url)\n",
        "     if response.status_code == 200:\n",
        "         data = response.json()\n",
        "         print(f\"\\nWeather in {data['name']}:\")\n",
        "         print(f\" - Temperature: {data['main']['temp']}°\")\n",
        "         print(f\" - Condition: {data['weather'][0]['description'].capitalize()}\")\n",
        "         print(f\" - Humidity: {data['main']['humidity']}%\")\n",
        "     else:\n",
        "         print(\"\\nError fetching weather. Please check the city name or your API key.\")\n",
        "\n",
        "\n",
        "# Let user select a city or input a custom one\n",
        "print(\"Enter a city name or choose from the default cities below:\")\n",
        "for index, city in enumerate(DEFAULT_CITIES, start=1):\n",
        "    print(f\"{index}. {city}\")\n",
        "print(f\"{len(DEFAULT_CITIES) + 1}. Enter a custom city\")\n",
        "\n",
        "\n",
        "choice = input(\"\\nYour choice (1 to {0}): \".format(len(DEFAULT_CITIES) + 1))\n",
        "if choice.isdigit() and 1 <= int(choice) <= len(DEFAULT_CITIES):\n",
        "    city = DEFAULT_CITIES[int(choice) - 1]\n",
        "elif choice == str(len(DEFAULT_CITIES) + 1):\n",
        "    city = input(\"Enter your custom city name: \")\n",
        "else:\n",
        "    print(\"\\nInvalid choice. Using the first default city.\")\n",
        "city = DEFAULT_CITIES[0]\n",
        "# Fetch and display weather\n",
        "fetch_weather(city)\n"
      ],
      "metadata": {
        "id": "3HMiZuJEzYxd",
        "colab": {
          "base_uri": "https://localhost:8080/"
        },
        "outputId": "5f501972-fb5e-41f5-c6c5-fb66cadd53db"
      },
      "execution_count": 16,
      "outputs": [
        {
          "output_type": "stream",
          "name": "stdout",
          "text": [
            "Enter a city name or choose from the default cities below:\n",
            "1. Lagos\n",
            "2. Nairobi\n",
            "3. Cairo\n",
            "4. Johannesburg\n",
            "5. Accra\n",
            "6. Addis Ababa\n",
            "7. Kampala\n",
            "8. Kinshasa\n",
            "9. Casablanca\n",
            "10. Tunis\n",
            "11. Algiers\n",
            "12. Dakar\n",
            "13. Abuja\n",
            "14. Windhoek\n",
            "15. Dar es Salaam\n",
            "16. Enter a custom city\n",
            "\n",
            "Your choice (1 to 16): Seventeenth \n",
            "\n",
            "Invalid choice. Using the first default city.\n",
            "\n",
            "Weather in Lagos:\n",
            " - Temperature: 26.36°\n",
            " - Condition: Scattered clouds\n",
            " - Humidity: 86%\n"
          ]
        }
      ]
    },
    {
      "cell_type": "code",
      "source": [],
      "metadata": {
        "id": "oyhi2eeknsCl"
      },
      "execution_count": null,
      "outputs": []
    },
    {
      "cell_type": "code",
      "source": [],
      "metadata": {
        "id": "0f_BOsiYnsT2"
      },
      "execution_count": null,
      "outputs": []
    }
  ]
}